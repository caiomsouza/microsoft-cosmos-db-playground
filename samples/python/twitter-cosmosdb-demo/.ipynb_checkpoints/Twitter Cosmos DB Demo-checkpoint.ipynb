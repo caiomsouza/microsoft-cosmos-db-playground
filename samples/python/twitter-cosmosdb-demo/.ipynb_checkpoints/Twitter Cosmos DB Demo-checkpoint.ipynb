{
 "cells": [
  {
   "cell_type": "code",
   "execution_count": 1,
   "metadata": {},
   "outputs": [],
   "source": [
    "from config import *\n",
    "import json\n",
    "from tweepy.streaming import StreamListener\n",
    "\n",
    "class CosmosDBListener(StreamListener):\n",
    " \n",
    "    def __init__(self, client, collLink):\n",
    "        self.client = client\n",
    "        self.collLink = collLink\n",
    "        \n",
    "    def on_data(self, data):\n",
    "        try:\n",
    "            dictData = json.loads(data)\n",
    "            dictData[\"id\"] = str(dictData[\"id\"])\n",
    "            self.client.CreateDocument(self.collLink, dictData)\n",
    "            return True\n",
    "        except BaseException as e:\n",
    "            print(\"Error on data: %s\" % str(e))\n",
    "        return True\n",
    " \n",
    "    def on_error(self, status):\n",
    "        print(status)\n",
    "        return True"
   ]
  },
  {
   "cell_type": "code",
   "execution_count": 2,
   "metadata": {},
   "outputs": [
    {
     "ename": "IndentationError",
     "evalue": "unexpected indent (<ipython-input-2-e62af4a28390>, line 2)",
     "output_type": "error",
     "traceback": [
      "\u001b[1;36m  File \u001b[1;32m\"<ipython-input-2-e62af4a28390>\"\u001b[1;36m, line \u001b[1;32m2\u001b[0m\n\u001b[1;33m    auth.set_access_token(access_token, access_secret)\u001b[0m\n\u001b[1;37m    ^\u001b[0m\n\u001b[1;31mIndentationError\u001b[0m\u001b[1;31m:\u001b[0m unexpected indent\n"
     ]
    }
   ],
   "source": [
    "auth = OAuthHandler(consumer_key, consumer_secret)\n",
    "    auth.set_access_token(access_token, access_secret)\n",
    "    api = tweepy.API(auth)"
   ]
  },
  {
   "cell_type": "code",
   "execution_count": null,
   "metadata": {},
   "outputs": [],
   "source": []
  }
 ],
 "metadata": {
  "kernelspec": {
   "display_name": "Python 3",
   "language": "python",
   "name": "python3"
  },
  "language_info": {
   "codemirror_mode": {
    "name": "ipython",
    "version": 3
   },
   "file_extension": ".py",
   "mimetype": "text/x-python",
   "name": "python",
   "nbconvert_exporter": "python",
   "pygments_lexer": "ipython3",
   "version": "3.6.4"
  }
 },
 "nbformat": 4,
 "nbformat_minor": 2
}
